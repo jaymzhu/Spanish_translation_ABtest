{
 "cells": [
  {
   "cell_type": "markdown",
   "metadata": {},
   "source": [
    "# Spanish Translation AB test"
   ]
  },
  {
   "cell_type": "markdown",
   "metadata": {},
   "source": [
    "### AB test: Spanish translation written by a local can improve conversion rate. \n",
    "### Test results shows negative. \n",
    "### The analysis below investigates the problem. "
   ]
  },
  {
   "cell_type": "code",
   "execution_count": 1,
   "metadata": {},
   "outputs": [],
   "source": [
    "import pandas as pd\n",
    "import numpy as np\n",
    "import matplotlib.pyplot as plt\n",
    "import seaborn as sns\n",
    "%matplotlib inline"
   ]
  },
  {
   "cell_type": "code",
   "execution_count": 2,
   "metadata": {},
   "outputs": [],
   "source": [
    "test = pd.read_csv('translation_test_table.csv')\n",
    "user = pd.read_csv('translation_user_table.csv')"
   ]
  },
  {
   "cell_type": "code",
   "execution_count": 3,
   "metadata": {},
   "outputs": [
    {
     "data": {
      "text/html": [
       "<div>\n",
       "<style scoped>\n",
       "    .dataframe tbody tr th:only-of-type {\n",
       "        vertical-align: middle;\n",
       "    }\n",
       "\n",
       "    .dataframe tbody tr th {\n",
       "        vertical-align: top;\n",
       "    }\n",
       "\n",
       "    .dataframe thead th {\n",
       "        text-align: right;\n",
       "    }\n",
       "</style>\n",
       "<table border=\"1\" class=\"dataframe\">\n",
       "  <thead>\n",
       "    <tr style=\"text-align: right;\">\n",
       "      <th></th>\n",
       "      <th>user_id</th>\n",
       "      <th>date</th>\n",
       "      <th>source</th>\n",
       "      <th>device</th>\n",
       "      <th>browser_language</th>\n",
       "      <th>ads_channel</th>\n",
       "      <th>browser</th>\n",
       "      <th>conversion</th>\n",
       "      <th>test</th>\n",
       "    </tr>\n",
       "  </thead>\n",
       "  <tbody>\n",
       "    <tr>\n",
       "      <th>0</th>\n",
       "      <td>315281</td>\n",
       "      <td>2015-12-03</td>\n",
       "      <td>Direct</td>\n",
       "      <td>Web</td>\n",
       "      <td>ES</td>\n",
       "      <td>NaN</td>\n",
       "      <td>IE</td>\n",
       "      <td>1</td>\n",
       "      <td>0</td>\n",
       "    </tr>\n",
       "    <tr>\n",
       "      <th>1</th>\n",
       "      <td>497851</td>\n",
       "      <td>2015-12-04</td>\n",
       "      <td>Ads</td>\n",
       "      <td>Web</td>\n",
       "      <td>ES</td>\n",
       "      <td>Google</td>\n",
       "      <td>IE</td>\n",
       "      <td>0</td>\n",
       "      <td>1</td>\n",
       "    </tr>\n",
       "    <tr>\n",
       "      <th>2</th>\n",
       "      <td>848402</td>\n",
       "      <td>2015-12-04</td>\n",
       "      <td>Ads</td>\n",
       "      <td>Web</td>\n",
       "      <td>ES</td>\n",
       "      <td>Facebook</td>\n",
       "      <td>Chrome</td>\n",
       "      <td>0</td>\n",
       "      <td>0</td>\n",
       "    </tr>\n",
       "    <tr>\n",
       "      <th>3</th>\n",
       "      <td>290051</td>\n",
       "      <td>2015-12-03</td>\n",
       "      <td>Ads</td>\n",
       "      <td>Mobile</td>\n",
       "      <td>Other</td>\n",
       "      <td>Facebook</td>\n",
       "      <td>Android_App</td>\n",
       "      <td>0</td>\n",
       "      <td>1</td>\n",
       "    </tr>\n",
       "    <tr>\n",
       "      <th>4</th>\n",
       "      <td>548435</td>\n",
       "      <td>2015-11-30</td>\n",
       "      <td>Ads</td>\n",
       "      <td>Web</td>\n",
       "      <td>ES</td>\n",
       "      <td>Google</td>\n",
       "      <td>FireFox</td>\n",
       "      <td>0</td>\n",
       "      <td>1</td>\n",
       "    </tr>\n",
       "  </tbody>\n",
       "</table>\n",
       "</div>"
      ],
      "text/plain": [
       "   user_id        date  source  device browser_language ads_channel  \\\n",
       "0   315281  2015-12-03  Direct     Web               ES         NaN   \n",
       "1   497851  2015-12-04     Ads     Web               ES      Google   \n",
       "2   848402  2015-12-04     Ads     Web               ES    Facebook   \n",
       "3   290051  2015-12-03     Ads  Mobile            Other    Facebook   \n",
       "4   548435  2015-11-30     Ads     Web               ES      Google   \n",
       "\n",
       "       browser  conversion  test  \n",
       "0           IE           1     0  \n",
       "1           IE           0     1  \n",
       "2       Chrome           0     0  \n",
       "3  Android_App           0     1  \n",
       "4      FireFox           0     1  "
      ]
     },
     "execution_count": 3,
     "metadata": {},
     "output_type": "execute_result"
    }
   ],
   "source": [
    "test.head()"
   ]
  },
  {
   "cell_type": "code",
   "execution_count": 4,
   "metadata": {},
   "outputs": [
    {
     "data": {
      "text/html": [
       "<div>\n",
       "<style scoped>\n",
       "    .dataframe tbody tr th:only-of-type {\n",
       "        vertical-align: middle;\n",
       "    }\n",
       "\n",
       "    .dataframe tbody tr th {\n",
       "        vertical-align: top;\n",
       "    }\n",
       "\n",
       "    .dataframe thead th {\n",
       "        text-align: right;\n",
       "    }\n",
       "</style>\n",
       "<table border=\"1\" class=\"dataframe\">\n",
       "  <thead>\n",
       "    <tr style=\"text-align: right;\">\n",
       "      <th></th>\n",
       "      <th>user_id</th>\n",
       "      <th>sex</th>\n",
       "      <th>age</th>\n",
       "      <th>country</th>\n",
       "    </tr>\n",
       "  </thead>\n",
       "  <tbody>\n",
       "    <tr>\n",
       "      <th>0</th>\n",
       "      <td>765821</td>\n",
       "      <td>M</td>\n",
       "      <td>20</td>\n",
       "      <td>Mexico</td>\n",
       "    </tr>\n",
       "    <tr>\n",
       "      <th>1</th>\n",
       "      <td>343561</td>\n",
       "      <td>F</td>\n",
       "      <td>27</td>\n",
       "      <td>Nicaragua</td>\n",
       "    </tr>\n",
       "    <tr>\n",
       "      <th>2</th>\n",
       "      <td>118744</td>\n",
       "      <td>M</td>\n",
       "      <td>23</td>\n",
       "      <td>Colombia</td>\n",
       "    </tr>\n",
       "    <tr>\n",
       "      <th>3</th>\n",
       "      <td>987753</td>\n",
       "      <td>F</td>\n",
       "      <td>27</td>\n",
       "      <td>Venezuela</td>\n",
       "    </tr>\n",
       "    <tr>\n",
       "      <th>4</th>\n",
       "      <td>554597</td>\n",
       "      <td>F</td>\n",
       "      <td>20</td>\n",
       "      <td>Spain</td>\n",
       "    </tr>\n",
       "  </tbody>\n",
       "</table>\n",
       "</div>"
      ],
      "text/plain": [
       "   user_id sex  age    country\n",
       "0   765821   M   20     Mexico\n",
       "1   343561   F   27  Nicaragua\n",
       "2   118744   M   23   Colombia\n",
       "3   987753   F   27  Venezuela\n",
       "4   554597   F   20      Spain"
      ]
     },
     "execution_count": 4,
     "metadata": {},
     "output_type": "execute_result"
    }
   ],
   "source": [
    "user.head()"
   ]
  },
  {
   "cell_type": "code",
   "execution_count": 5,
   "metadata": {},
   "outputs": [
    {
     "data": {
      "text/plain": [
       "(453321, 9)"
      ]
     },
     "execution_count": 5,
     "metadata": {},
     "output_type": "execute_result"
    }
   ],
   "source": [
    "test.shape"
   ]
  },
  {
   "cell_type": "code",
   "execution_count": 6,
   "metadata": {},
   "outputs": [
    {
     "data": {
      "text/plain": [
       "(452867, 4)"
      ]
     },
     "execution_count": 6,
     "metadata": {},
     "output_type": "execute_result"
    }
   ],
   "source": [
    "user.shape"
   ]
  },
  {
   "cell_type": "code",
   "execution_count": 7,
   "metadata": {},
   "outputs": [
    {
     "data": {
      "text/plain": [
       "user_id                  0\n",
       "date                     0\n",
       "source                   0\n",
       "device                   0\n",
       "browser_language         0\n",
       "ads_channel         271444\n",
       "browser                  0\n",
       "conversion               0\n",
       "test                     0\n",
       "dtype: int64"
      ]
     },
     "execution_count": 7,
     "metadata": {},
     "output_type": "execute_result"
    }
   ],
   "source": [
    "test.isnull().sum()"
   ]
  },
  {
   "cell_type": "code",
   "execution_count": 8,
   "metadata": {},
   "outputs": [
    {
     "data": {
      "text/plain": [
       "user_id    0\n",
       "sex        0\n",
       "age        0\n",
       "country    0\n",
       "dtype: int64"
      ]
     },
     "execution_count": 8,
     "metadata": {},
     "output_type": "execute_result"
    }
   ],
   "source": [
    "user.isnull().sum()"
   ]
  },
  {
   "cell_type": "code",
   "execution_count": 9,
   "metadata": {},
   "outputs": [],
   "source": [
    "data = pd.merge(test, user, on='user_id', how='left')"
   ]
  },
  {
   "cell_type": "code",
   "execution_count": 10,
   "metadata": {},
   "outputs": [
    {
     "data": {
      "text/plain": [
       "user_id                  0\n",
       "date                     0\n",
       "source                   0\n",
       "device                   0\n",
       "browser_language         0\n",
       "ads_channel         271444\n",
       "browser                  0\n",
       "conversion               0\n",
       "test                     0\n",
       "sex                    454\n",
       "age                    454\n",
       "country                454\n",
       "dtype: int64"
      ]
     },
     "execution_count": 10,
     "metadata": {},
     "output_type": "execute_result"
    }
   ],
   "source": [
    "data.isnull().sum()"
   ]
  },
  {
   "cell_type": "code",
   "execution_count": 11,
   "metadata": {},
   "outputs": [
    {
     "name": "stdout",
     "output_type": "stream",
     "text": [
      "<class 'pandas.core.frame.DataFrame'>\n",
      "Int64Index: 453321 entries, 0 to 453320\n",
      "Data columns (total 12 columns):\n",
      "user_id             453321 non-null int64\n",
      "date                453321 non-null object\n",
      "source              453321 non-null object\n",
      "device              453321 non-null object\n",
      "browser_language    453321 non-null object\n",
      "ads_channel         181877 non-null object\n",
      "browser             453321 non-null object\n",
      "conversion          453321 non-null int64\n",
      "test                453321 non-null int64\n",
      "sex                 452867 non-null object\n",
      "age                 452867 non-null float64\n",
      "country             452867 non-null object\n",
      "dtypes: float64(1), int64(3), object(8)\n",
      "memory usage: 45.0+ MB\n"
     ]
    }
   ],
   "source": [
    "data.info()"
   ]
  },
  {
   "cell_type": "code",
   "execution_count": 12,
   "metadata": {},
   "outputs": [
    {
     "data": {
      "text/plain": [
       "Facebook    68425\n",
       "Google      68180\n",
       "Yahoo       27435\n",
       "Bing        13689\n",
       "Other        4148\n",
       "Name: ads_channel, dtype: int64"
      ]
     },
     "execution_count": 12,
     "metadata": {},
     "output_type": "execute_result"
    }
   ],
   "source": [
    "data['ads_channel'].value_counts()"
   ]
  },
  {
   "cell_type": "code",
   "execution_count": 13,
   "metadata": {},
   "outputs": [],
   "source": [
    "data['ads_channel'].fillna('Not_specified', inplace=True)"
   ]
  },
  {
   "cell_type": "code",
   "execution_count": 14,
   "metadata": {},
   "outputs": [],
   "source": [
    "data['sex'].fillna('Not_specified', inplace=True)"
   ]
  },
  {
   "cell_type": "code",
   "execution_count": 15,
   "metadata": {},
   "outputs": [],
   "source": [
    "data['age'].fillna(data['age'].mean(), inplace=True)"
   ]
  },
  {
   "cell_type": "code",
   "execution_count": 16,
   "metadata": {},
   "outputs": [],
   "source": [
    "data['country'].fillna('Not_specified', inplace=True)"
   ]
  },
  {
   "cell_type": "code",
   "execution_count": 17,
   "metadata": {},
   "outputs": [
    {
     "data": {
      "text/plain": [
       "user_id             0\n",
       "date                0\n",
       "source              0\n",
       "device              0\n",
       "browser_language    0\n",
       "ads_channel         0\n",
       "browser             0\n",
       "conversion          0\n",
       "test                0\n",
       "sex                 0\n",
       "age                 0\n",
       "country             0\n",
       "dtype: int64"
      ]
     },
     "execution_count": 17,
     "metadata": {},
     "output_type": "execute_result"
    }
   ],
   "source": [
    "data.isnull().sum()"
   ]
  },
  {
   "cell_type": "code",
   "execution_count": 18,
   "metadata": {},
   "outputs": [
    {
     "data": {
      "text/plain": [
       "(197773, 12)"
      ]
     },
     "execution_count": 18,
     "metadata": {},
     "output_type": "execute_result"
    }
   ],
   "source": [
    "data[(data['browser_language']=='ES') & (data['test']==0)].shape"
   ]
  },
  {
   "cell_type": "code",
   "execution_count": 19,
   "metadata": {},
   "outputs": [
    {
     "data": {
      "text/plain": [
       "(179774, 12)"
      ]
     },
     "execution_count": 19,
     "metadata": {},
     "output_type": "execute_result"
    }
   ],
   "source": [
    "data[(data['browser_language']=='ES') & (data['test']==1)].shape"
   ]
  },
  {
   "cell_type": "code",
   "execution_count": 20,
   "metadata": {},
   "outputs": [
    {
     "data": {
      "text/plain": [
       "ES       43146\n",
       "EN        7196\n",
       "Other     1440\n",
       "Name: browser_language, dtype: int64"
      ]
     },
     "execution_count": 20,
     "metadata": {},
     "output_type": "execute_result"
    }
   ],
   "source": [
    "data[data['country']=='Spain']['browser_language'].value_counts()"
   ]
  },
  {
   "cell_type": "code",
   "execution_count": 21,
   "metadata": {},
   "outputs": [
    {
     "data": {
      "text/plain": [
       "Mexico           128484\n",
       "Colombia          54060\n",
       "Spain             51782\n",
       "Argentina         46733\n",
       "Peru              33666\n",
       "Venezuela         32054\n",
       "Chile             19737\n",
       "Ecuador           15895\n",
       "Guatemala         15125\n",
       "Bolivia           11124\n",
       "Honduras           8568\n",
       "El Salvador        8175\n",
       "Paraguay           7347\n",
       "Nicaragua          6723\n",
       "Costa Rica         5309\n",
       "Uruguay            4134\n",
       "Panama             3951\n",
       "Not_specified       454\n",
       "Name: country, dtype: int64"
      ]
     },
     "execution_count": 21,
     "metadata": {},
     "output_type": "execute_result"
    }
   ],
   "source": [
    "data['country'].value_counts()"
   ]
  },
  {
   "cell_type": "code",
   "execution_count": 22,
   "metadata": {},
   "outputs": [
    {
     "data": {
      "text/plain": [
       "7.971882121200418"
      ]
     },
     "execution_count": 22,
     "metadata": {},
     "output_type": "execute_result"
    }
   ],
   "source": [
    "conversion_rate_spain = sum(data[data['country']=='Spain']['conversion'])/len(data[data['country']=='Spain'])*100\n",
    "conversion_rate_spain"
   ]
  },
  {
   "cell_type": "code",
   "execution_count": 23,
   "metadata": {},
   "outputs": [
    {
     "data": {
      "text/plain": [
       "4.569170117971106"
      ]
     },
     "execution_count": 23,
     "metadata": {},
     "output_type": "execute_result"
    }
   ],
   "source": [
    "conversion_rate_laam = sum(data[data['country']!='Spain']['conversion'])/len(data[data['country']!='Spain'])*100\n",
    "conversion_rate_laam"
   ]
  },
  {
   "cell_type": "code",
   "execution_count": 24,
   "metadata": {},
   "outputs": [
    {
     "data": {
      "text/html": [
       "<div>\n",
       "<style scoped>\n",
       "    .dataframe tbody tr th:only-of-type {\n",
       "        vertical-align: middle;\n",
       "    }\n",
       "\n",
       "    .dataframe tbody tr th {\n",
       "        vertical-align: top;\n",
       "    }\n",
       "\n",
       "    .dataframe thead th {\n",
       "        text-align: right;\n",
       "    }\n",
       "</style>\n",
       "<table border=\"1\" class=\"dataframe\">\n",
       "  <thead>\n",
       "    <tr style=\"text-align: right;\">\n",
       "      <th></th>\n",
       "      <th>country</th>\n",
       "      <th>total_conversion</th>\n",
       "    </tr>\n",
       "  </thead>\n",
       "  <tbody>\n",
       "    <tr>\n",
       "      <th>15</th>\n",
       "      <td>Spain</td>\n",
       "      <td>0.079719</td>\n",
       "    </tr>\n",
       "    <tr>\n",
       "      <th>11</th>\n",
       "      <td>Not_specified</td>\n",
       "      <td>0.068282</td>\n",
       "    </tr>\n",
       "    <tr>\n",
       "      <th>4</th>\n",
       "      <td>Costa Rica</td>\n",
       "      <td>0.053494</td>\n",
       "    </tr>\n",
       "    <tr>\n",
       "      <th>10</th>\n",
       "      <td>Nicaragua</td>\n",
       "      <td>0.053399</td>\n",
       "    </tr>\n",
       "    <tr>\n",
       "      <th>3</th>\n",
       "      <td>Colombia</td>\n",
       "      <td>0.051332</td>\n",
       "    </tr>\n",
       "    <tr>\n",
       "      <th>6</th>\n",
       "      <td>El Salvador</td>\n",
       "      <td>0.050765</td>\n",
       "    </tr>\n",
       "    <tr>\n",
       "      <th>9</th>\n",
       "      <td>Mexico</td>\n",
       "      <td>0.050341</td>\n",
       "    </tr>\n",
       "    <tr>\n",
       "      <th>14</th>\n",
       "      <td>Peru</td>\n",
       "      <td>0.050258</td>\n",
       "    </tr>\n",
       "    <tr>\n",
       "      <th>2</th>\n",
       "      <td>Chile</td>\n",
       "      <td>0.049704</td>\n",
       "    </tr>\n",
       "    <tr>\n",
       "      <th>17</th>\n",
       "      <td>Venezuela</td>\n",
       "      <td>0.049666</td>\n",
       "    </tr>\n",
       "    <tr>\n",
       "      <th>7</th>\n",
       "      <td>Guatemala</td>\n",
       "      <td>0.049653</td>\n",
       "    </tr>\n",
       "    <tr>\n",
       "      <th>8</th>\n",
       "      <td>Honduras</td>\n",
       "      <td>0.049253</td>\n",
       "    </tr>\n",
       "    <tr>\n",
       "      <th>5</th>\n",
       "      <td>Ecuador</td>\n",
       "      <td>0.049072</td>\n",
       "    </tr>\n",
       "    <tr>\n",
       "      <th>13</th>\n",
       "      <td>Paraguay</td>\n",
       "      <td>0.048863</td>\n",
       "    </tr>\n",
       "    <tr>\n",
       "      <th>1</th>\n",
       "      <td>Bolivia</td>\n",
       "      <td>0.048634</td>\n",
       "    </tr>\n",
       "    <tr>\n",
       "      <th>12</th>\n",
       "      <td>Panama</td>\n",
       "      <td>0.048089</td>\n",
       "    </tr>\n",
       "    <tr>\n",
       "      <th>0</th>\n",
       "      <td>Argentina</td>\n",
       "      <td>0.013994</td>\n",
       "    </tr>\n",
       "    <tr>\n",
       "      <th>16</th>\n",
       "      <td>Uruguay</td>\n",
       "      <td>0.012821</td>\n",
       "    </tr>\n",
       "  </tbody>\n",
       "</table>\n",
       "</div>"
      ],
      "text/plain": [
       "          country  total_conversion\n",
       "15          Spain          0.079719\n",
       "11  Not_specified          0.068282\n",
       "4      Costa Rica          0.053494\n",
       "10      Nicaragua          0.053399\n",
       "3        Colombia          0.051332\n",
       "6     El Salvador          0.050765\n",
       "9          Mexico          0.050341\n",
       "14           Peru          0.050258\n",
       "2           Chile          0.049704\n",
       "17      Venezuela          0.049666\n",
       "7       Guatemala          0.049653\n",
       "8        Honduras          0.049253\n",
       "5         Ecuador          0.049072\n",
       "13       Paraguay          0.048863\n",
       "1         Bolivia          0.048634\n",
       "12         Panama          0.048089\n",
       "0       Argentina          0.013994\n",
       "16        Uruguay          0.012821"
      ]
     },
     "execution_count": 24,
     "metadata": {},
     "output_type": "execute_result"
    }
   ],
   "source": [
    "conversion_by_country = data[['country', 'conversion']].groupby('country').mean().reset_index().sort_values('conversion', ascending=False)\n",
    "conversion_by_country.columns = ['country', 'total_conversion']\n",
    "conversion_by_country"
   ]
  },
  {
   "cell_type": "markdown",
   "metadata": {},
   "source": [
    "### Conversion rate by country does indicate that overall has larger conversion rate than Latin American countries"
   ]
  },
  {
   "cell_type": "code",
   "execution_count": 25,
   "metadata": {},
   "outputs": [],
   "source": [
    "conversion_by_country_cont = data.loc[data['test']==0,['country', 'conversion']].groupby('country').mean().reset_index().sort_index()\n",
    "conversion_by_country_cont.columns = ['country', 'conversion_control']"
   ]
  },
  {
   "cell_type": "code",
   "execution_count": 26,
   "metadata": {},
   "outputs": [],
   "source": [
    "conversion_by_country_exp = data.loc[data['test']==1,['country', 'conversion']].groupby('country').mean().reset_index().sort_values('conversion', ascending=False)\n",
    "conversion_by_country_exp.columns = ['country', 'conversion_test']"
   ]
  },
  {
   "cell_type": "code",
   "execution_count": 27,
   "metadata": {},
   "outputs": [],
   "source": [
    "conversion = pd.merge(conversion_by_country, conversion_by_country_cont, on='country', how='left')"
   ]
  },
  {
   "cell_type": "code",
   "execution_count": 28,
   "metadata": {},
   "outputs": [],
   "source": [
    "conversion = pd.merge(conversion, conversion_by_country_exp, on='country', how='left')"
   ]
  },
  {
   "cell_type": "code",
   "execution_count": 29,
   "metadata": {},
   "outputs": [
    {
     "data": {
      "text/html": [
       "<div>\n",
       "<style scoped>\n",
       "    .dataframe tbody tr th:only-of-type {\n",
       "        vertical-align: middle;\n",
       "    }\n",
       "\n",
       "    .dataframe tbody tr th {\n",
       "        vertical-align: top;\n",
       "    }\n",
       "\n",
       "    .dataframe thead th {\n",
       "        text-align: right;\n",
       "    }\n",
       "</style>\n",
       "<table border=\"1\" class=\"dataframe\">\n",
       "  <thead>\n",
       "    <tr style=\"text-align: right;\">\n",
       "      <th></th>\n",
       "      <th>country</th>\n",
       "      <th>total_conversion</th>\n",
       "      <th>conversion_control</th>\n",
       "      <th>conversion_test</th>\n",
       "    </tr>\n",
       "  </thead>\n",
       "  <tbody>\n",
       "    <tr>\n",
       "      <th>17</th>\n",
       "      <td>Uruguay</td>\n",
       "      <td>0.012821</td>\n",
       "      <td>0.012048</td>\n",
       "      <td>0.012907</td>\n",
       "    </tr>\n",
       "    <tr>\n",
       "      <th>16</th>\n",
       "      <td>Argentina</td>\n",
       "      <td>0.013994</td>\n",
       "      <td>0.015071</td>\n",
       "      <td>0.013725</td>\n",
       "    </tr>\n",
       "    <tr>\n",
       "      <th>15</th>\n",
       "      <td>Panama</td>\n",
       "      <td>0.048089</td>\n",
       "      <td>0.046796</td>\n",
       "      <td>0.049370</td>\n",
       "    </tr>\n",
       "    <tr>\n",
       "      <th>14</th>\n",
       "      <td>Bolivia</td>\n",
       "      <td>0.048634</td>\n",
       "      <td>0.049369</td>\n",
       "      <td>0.047901</td>\n",
       "    </tr>\n",
       "    <tr>\n",
       "      <th>13</th>\n",
       "      <td>Paraguay</td>\n",
       "      <td>0.048863</td>\n",
       "      <td>0.048493</td>\n",
       "      <td>0.049229</td>\n",
       "    </tr>\n",
       "    <tr>\n",
       "      <th>12</th>\n",
       "      <td>Ecuador</td>\n",
       "      <td>0.049072</td>\n",
       "      <td>0.049154</td>\n",
       "      <td>0.048988</td>\n",
       "    </tr>\n",
       "    <tr>\n",
       "      <th>11</th>\n",
       "      <td>Honduras</td>\n",
       "      <td>0.049253</td>\n",
       "      <td>0.050906</td>\n",
       "      <td>0.047540</td>\n",
       "    </tr>\n",
       "    <tr>\n",
       "      <th>10</th>\n",
       "      <td>Guatemala</td>\n",
       "      <td>0.049653</td>\n",
       "      <td>0.050643</td>\n",
       "      <td>0.048647</td>\n",
       "    </tr>\n",
       "    <tr>\n",
       "      <th>9</th>\n",
       "      <td>Venezuela</td>\n",
       "      <td>0.049666</td>\n",
       "      <td>0.050344</td>\n",
       "      <td>0.048978</td>\n",
       "    </tr>\n",
       "    <tr>\n",
       "      <th>8</th>\n",
       "      <td>Chile</td>\n",
       "      <td>0.049704</td>\n",
       "      <td>0.048107</td>\n",
       "      <td>0.051295</td>\n",
       "    </tr>\n",
       "    <tr>\n",
       "      <th>7</th>\n",
       "      <td>Peru</td>\n",
       "      <td>0.050258</td>\n",
       "      <td>0.049914</td>\n",
       "      <td>0.050604</td>\n",
       "    </tr>\n",
       "    <tr>\n",
       "      <th>6</th>\n",
       "      <td>Mexico</td>\n",
       "      <td>0.050341</td>\n",
       "      <td>0.049495</td>\n",
       "      <td>0.051186</td>\n",
       "    </tr>\n",
       "    <tr>\n",
       "      <th>5</th>\n",
       "      <td>El Salvador</td>\n",
       "      <td>0.050765</td>\n",
       "      <td>0.053554</td>\n",
       "      <td>0.047947</td>\n",
       "    </tr>\n",
       "    <tr>\n",
       "      <th>4</th>\n",
       "      <td>Colombia</td>\n",
       "      <td>0.051332</td>\n",
       "      <td>0.052089</td>\n",
       "      <td>0.050571</td>\n",
       "    </tr>\n",
       "    <tr>\n",
       "      <th>3</th>\n",
       "      <td>Nicaragua</td>\n",
       "      <td>0.053399</td>\n",
       "      <td>0.052647</td>\n",
       "      <td>0.054177</td>\n",
       "    </tr>\n",
       "    <tr>\n",
       "      <th>2</th>\n",
       "      <td>Costa Rica</td>\n",
       "      <td>0.053494</td>\n",
       "      <td>0.052256</td>\n",
       "      <td>0.054738</td>\n",
       "    </tr>\n",
       "    <tr>\n",
       "      <th>1</th>\n",
       "      <td>Not_specified</td>\n",
       "      <td>0.068282</td>\n",
       "      <td>0.077551</td>\n",
       "      <td>0.057416</td>\n",
       "    </tr>\n",
       "    <tr>\n",
       "      <th>0</th>\n",
       "      <td>Spain</td>\n",
       "      <td>0.079719</td>\n",
       "      <td>0.079719</td>\n",
       "      <td>NaN</td>\n",
       "    </tr>\n",
       "  </tbody>\n",
       "</table>\n",
       "</div>"
      ],
      "text/plain": [
       "          country  total_conversion  conversion_control  conversion_test\n",
       "17        Uruguay          0.012821            0.012048         0.012907\n",
       "16      Argentina          0.013994            0.015071         0.013725\n",
       "15         Panama          0.048089            0.046796         0.049370\n",
       "14        Bolivia          0.048634            0.049369         0.047901\n",
       "13       Paraguay          0.048863            0.048493         0.049229\n",
       "12        Ecuador          0.049072            0.049154         0.048988\n",
       "11       Honduras          0.049253            0.050906         0.047540\n",
       "10      Guatemala          0.049653            0.050643         0.048647\n",
       "9       Venezuela          0.049666            0.050344         0.048978\n",
       "8           Chile          0.049704            0.048107         0.051295\n",
       "7            Peru          0.050258            0.049914         0.050604\n",
       "6          Mexico          0.050341            0.049495         0.051186\n",
       "5     El Salvador          0.050765            0.053554         0.047947\n",
       "4        Colombia          0.051332            0.052089         0.050571\n",
       "3       Nicaragua          0.053399            0.052647         0.054177\n",
       "2      Costa Rica          0.053494            0.052256         0.054738\n",
       "1   Not_specified          0.068282            0.077551         0.057416\n",
       "0           Spain          0.079719            0.079719              NaN"
      ]
     },
     "execution_count": 29,
     "metadata": {},
     "output_type": "execute_result"
    }
   ],
   "source": [
    "conversion.sort_values('total_conversion')"
   ]
  },
  {
   "cell_type": "markdown",
   "metadata": {},
   "source": [
    "### Remove Spain from the AB test list. \n",
    "\n",
    "### Remove English from the AB test list. \n",
    "\n",
    "### Check sample size for control group and experiment group in Latin American countries with Spanish as browser language."
   ]
  },
  {
   "cell_type": "code",
   "execution_count": 30,
   "metadata": {},
   "outputs": [],
   "source": [
    "data_LaAm = data[data['country']!='Spain']"
   ]
  },
  {
   "cell_type": "code",
   "execution_count": 31,
   "metadata": {},
   "outputs": [
    {
     "data": {
      "text/plain": [
       "1    215983\n",
       "0    185556\n",
       "Name: test, dtype: int64"
      ]
     },
     "execution_count": 31,
     "metadata": {},
     "output_type": "execute_result"
    }
   ],
   "source": [
    "data_LaAm['test'].value_counts()"
   ]
  },
  {
   "cell_type": "code",
   "execution_count": 32,
   "metadata": {},
   "outputs": [
    {
     "data": {
      "text/plain": [
       "ES       334401\n",
       "EN        55941\n",
       "Other     11197\n",
       "Name: browser_language, dtype: int64"
      ]
     },
     "execution_count": 32,
     "metadata": {},
     "output_type": "execute_result"
    }
   ],
   "source": [
    "data_LaAm['browser_language'].value_counts()"
   ]
  },
  {
   "cell_type": "code",
   "execution_count": 33,
   "metadata": {},
   "outputs": [
    {
     "data": {
      "text/plain": [
       "1    179774\n",
       "0    154627\n",
       "Name: test, dtype: int64"
      ]
     },
     "execution_count": 33,
     "metadata": {},
     "output_type": "execute_result"
    }
   ],
   "source": [
    "data_LaAm[data_LaAm['browser_language']=='ES']['test'].value_counts()"
   ]
  },
  {
   "cell_type": "code",
   "execution_count": 34,
   "metadata": {},
   "outputs": [
    {
     "data": {
      "text/plain": [
       "1    185849\n",
       "0    159749\n",
       "Name: test, dtype: int64"
      ]
     },
     "execution_count": 34,
     "metadata": {},
     "output_type": "execute_result"
    }
   ],
   "source": [
    "data_LaAm[data_LaAm['browser_language']!='EN']['test'].value_counts()"
   ]
  },
  {
   "cell_type": "code",
   "execution_count": 35,
   "metadata": {},
   "outputs": [
    {
     "data": {
      "text/html": [
       "<div>\n",
       "<style scoped>\n",
       "    .dataframe tbody tr th:only-of-type {\n",
       "        vertical-align: middle;\n",
       "    }\n",
       "\n",
       "    .dataframe tbody tr th {\n",
       "        vertical-align: top;\n",
       "    }\n",
       "\n",
       "    .dataframe thead th {\n",
       "        text-align: right;\n",
       "    }\n",
       "</style>\n",
       "<table border=\"1\" class=\"dataframe\">\n",
       "  <thead>\n",
       "    <tr style=\"text-align: right;\">\n",
       "      <th></th>\n",
       "      <th>test</th>\n",
       "      <th>conversion</th>\n",
       "    </tr>\n",
       "  </thead>\n",
       "  <tbody>\n",
       "    <tr>\n",
       "      <th>0</th>\n",
       "      <td>0</td>\n",
       "      <td>0.048330</td>\n",
       "    </tr>\n",
       "    <tr>\n",
       "      <th>1</th>\n",
       "      <td>1</td>\n",
       "      <td>0.043425</td>\n",
       "    </tr>\n",
       "  </tbody>\n",
       "</table>\n",
       "</div>"
      ],
      "text/plain": [
       "   test  conversion\n",
       "0     0    0.048330\n",
       "1     1    0.043425"
      ]
     },
     "execution_count": 35,
     "metadata": {},
     "output_type": "execute_result"
    }
   ],
   "source": [
    "data_LaAm[['test','conversion']].groupby('test').mean().reset_index().sort_index()"
   ]
  },
  {
   "cell_type": "code",
   "execution_count": 36,
   "metadata": {},
   "outputs": [
    {
     "data": {
      "text/plain": [
       "1    179774\n",
       "0    154627\n",
       "Name: test, dtype: int64"
      ]
     },
     "execution_count": 36,
     "metadata": {},
     "output_type": "execute_result"
    }
   ],
   "source": [
    "#data_LaAm_ES = data_LaAm[data_LaAm['browser_language']=='ES'][['test','conversion']]\n",
    "data_LaAm_ES = data_LaAm[data_LaAm['browser_language']=='ES']\n",
    "data_LaAm_ES['test'].value_counts()"
   ]
  },
  {
   "cell_type": "code",
   "execution_count": 37,
   "metadata": {},
   "outputs": [
    {
     "data": {
      "text/html": [
       "<div>\n",
       "<style scoped>\n",
       "    .dataframe tbody tr th:only-of-type {\n",
       "        vertical-align: middle;\n",
       "    }\n",
       "\n",
       "    .dataframe tbody tr th {\n",
       "        vertical-align: top;\n",
       "    }\n",
       "\n",
       "    .dataframe thead th {\n",
       "        text-align: right;\n",
       "    }\n",
       "</style>\n",
       "<table border=\"1\" class=\"dataframe\">\n",
       "  <thead>\n",
       "    <tr style=\"text-align: right;\">\n",
       "      <th></th>\n",
       "      <th>test</th>\n",
       "      <th>user_id</th>\n",
       "      <th>conversion</th>\n",
       "      <th>age</th>\n",
       "    </tr>\n",
       "  </thead>\n",
       "  <tbody>\n",
       "    <tr>\n",
       "      <th>0</th>\n",
       "      <td>0</td>\n",
       "      <td>500558.447755</td>\n",
       "      <td>0.048659</td>\n",
       "      <td>27.138893</td>\n",
       "    </tr>\n",
       "    <tr>\n",
       "      <th>1</th>\n",
       "      <td>1</td>\n",
       "      <td>499313.002392</td>\n",
       "      <td>0.043532</td>\n",
       "      <td>27.112519</td>\n",
       "    </tr>\n",
       "  </tbody>\n",
       "</table>\n",
       "</div>"
      ],
      "text/plain": [
       "   test        user_id  conversion        age\n",
       "0     0  500558.447755    0.048659  27.138893\n",
       "1     1  499313.002392    0.043532  27.112519"
      ]
     },
     "execution_count": 37,
     "metadata": {},
     "output_type": "execute_result"
    }
   ],
   "source": [
    "data_LaAm_ES.groupby('test').mean().reset_index().sort_index()"
   ]
  },
  {
   "cell_type": "code",
   "execution_count": 38,
   "metadata": {},
   "outputs": [
    {
     "data": {
      "text/html": [
       "<div>\n",
       "<style scoped>\n",
       "    .dataframe tbody tr th:only-of-type {\n",
       "        vertical-align: middle;\n",
       "    }\n",
       "\n",
       "    .dataframe tbody tr th {\n",
       "        vertical-align: top;\n",
       "    }\n",
       "\n",
       "    .dataframe thead th {\n",
       "        text-align: right;\n",
       "    }\n",
       "</style>\n",
       "<table border=\"1\" class=\"dataframe\">\n",
       "  <thead>\n",
       "    <tr style=\"text-align: right;\">\n",
       "      <th></th>\n",
       "      <th>user_id</th>\n",
       "      <th>date</th>\n",
       "      <th>source</th>\n",
       "      <th>device</th>\n",
       "      <th>browser_language</th>\n",
       "      <th>ads_channel</th>\n",
       "      <th>browser</th>\n",
       "      <th>conversion</th>\n",
       "      <th>test</th>\n",
       "      <th>sex</th>\n",
       "      <th>age</th>\n",
       "      <th>country</th>\n",
       "    </tr>\n",
       "  </thead>\n",
       "  <tbody>\n",
       "    <tr>\n",
       "      <th>1</th>\n",
       "      <td>497851</td>\n",
       "      <td>2015-12-04</td>\n",
       "      <td>Ads</td>\n",
       "      <td>Web</td>\n",
       "      <td>ES</td>\n",
       "      <td>Google</td>\n",
       "      <td>IE</td>\n",
       "      <td>0</td>\n",
       "      <td>1</td>\n",
       "      <td>M</td>\n",
       "      <td>21.0</td>\n",
       "      <td>Mexico</td>\n",
       "    </tr>\n",
       "    <tr>\n",
       "      <th>4</th>\n",
       "      <td>548435</td>\n",
       "      <td>2015-11-30</td>\n",
       "      <td>Ads</td>\n",
       "      <td>Web</td>\n",
       "      <td>ES</td>\n",
       "      <td>Google</td>\n",
       "      <td>FireFox</td>\n",
       "      <td>0</td>\n",
       "      <td>1</td>\n",
       "      <td>M</td>\n",
       "      <td>19.0</td>\n",
       "      <td>Mexico</td>\n",
       "    </tr>\n",
       "    <tr>\n",
       "      <th>5</th>\n",
       "      <td>540675</td>\n",
       "      <td>2015-12-03</td>\n",
       "      <td>Direct</td>\n",
       "      <td>Mobile</td>\n",
       "      <td>ES</td>\n",
       "      <td>Not_specified</td>\n",
       "      <td>Android_App</td>\n",
       "      <td>0</td>\n",
       "      <td>1</td>\n",
       "      <td>F</td>\n",
       "      <td>22.0</td>\n",
       "      <td>Venezuela</td>\n",
       "    </tr>\n",
       "    <tr>\n",
       "      <th>8</th>\n",
       "      <td>261625</td>\n",
       "      <td>2015-12-04</td>\n",
       "      <td>Direct</td>\n",
       "      <td>Mobile</td>\n",
       "      <td>ES</td>\n",
       "      <td>Not_specified</td>\n",
       "      <td>Android_App</td>\n",
       "      <td>0</td>\n",
       "      <td>1</td>\n",
       "      <td>M</td>\n",
       "      <td>31.0</td>\n",
       "      <td>Bolivia</td>\n",
       "    </tr>\n",
       "    <tr>\n",
       "      <th>9</th>\n",
       "      <td>10427</td>\n",
       "      <td>2015-12-04</td>\n",
       "      <td>Ads</td>\n",
       "      <td>Mobile</td>\n",
       "      <td>ES</td>\n",
       "      <td>Facebook</td>\n",
       "      <td>Android_App</td>\n",
       "      <td>0</td>\n",
       "      <td>0</td>\n",
       "      <td>F</td>\n",
       "      <td>33.0</td>\n",
       "      <td>Mexico</td>\n",
       "    </tr>\n",
       "  </tbody>\n",
       "</table>\n",
       "</div>"
      ],
      "text/plain": [
       "   user_id        date  source  device browser_language    ads_channel  \\\n",
       "1   497851  2015-12-04     Ads     Web               ES         Google   \n",
       "4   548435  2015-11-30     Ads     Web               ES         Google   \n",
       "5   540675  2015-12-03  Direct  Mobile               ES  Not_specified   \n",
       "8   261625  2015-12-04  Direct  Mobile               ES  Not_specified   \n",
       "9    10427  2015-12-04     Ads  Mobile               ES       Facebook   \n",
       "\n",
       "       browser  conversion  test sex   age    country  \n",
       "1           IE           0     1   M  21.0     Mexico  \n",
       "4      FireFox           0     1   M  19.0     Mexico  \n",
       "5  Android_App           0     1   F  22.0  Venezuela  \n",
       "8  Android_App           0     1   M  31.0    Bolivia  \n",
       "9  Android_App           0     0   F  33.0     Mexico  "
      ]
     },
     "execution_count": 38,
     "metadata": {},
     "output_type": "execute_result"
    }
   ],
   "source": [
    "data_LaAm_ES.head()"
   ]
  },
  {
   "cell_type": "markdown",
   "metadata": {},
   "source": [
    "### Using Latine American countries with all browsing languages vs with only Spanish gave similar conversion rate. For the following analysis, let's use only the Spanish language. "
   ]
  },
  {
   "cell_type": "code",
   "execution_count": 72,
   "metadata": {},
   "outputs": [],
   "source": [
    "# Define a function to calculate the difference between experiment and control, and it's confidence interval \n",
    "\n",
    "from scipy.stats import norm\n",
    "\n",
    "def get_z_score(alpha):\n",
    "    return norm.ppf(alpha)\n",
    "\n",
    "def z_test(X_cont, X_exp, N_cont, N_exp, alpha):\n",
    "    diff = X_exp/N_exp - X_cont/N_cont\n",
    "    P_pool = (X_cont+X_exp)/(N_cont+N_exp)\n",
    "    SE_pool = np.sqrt(P_pool*(1-P_pool)*(1/N_cont+1/N_exp))\n",
    "\n",
    "    CI_lower = get_z_score(alpha/2) * SE_pool + diff\n",
    "    CI_higher = get_z_score(1-alpha/2) * SE_pool + diff\n",
    "    z_scores = diff/SE_pool\n",
    "    \n",
    "    # one-tailed p value\n",
    "    p_value1 = norm.sf(abs(z_scores))\n",
    "    # two-tailed p value\n",
    "    p_value2 = norm.sf(abs(z_scores))*2\n",
    "    \n",
    "    print('Difference between Experiment and Control is {}'.format(diff))\n",
    "    print('95% confidence interval of difference is ({}, {})'.format(round(CI_lower, 8), round(CI_higher, 8)))\n",
    "    print('2-tail test p-value is {}'.format(p_value2))\n",
    "#    print('1-tail test p-value is {}'.format(p_value1))\n",
    "    return (diff, CI_lower, CI_higher, p_value2)\n",
    " "
   ]
  },
  {
   "cell_type": "code",
   "execution_count": 73,
   "metadata": {},
   "outputs": [
    {
     "name": "stdout",
     "output_type": "stream",
     "text": [
      "Difference between Experiment and Control is -0.005126595919113727\n",
      "95% confidence interval of difference is (-0.00654923, -0.00370396)\n",
      "2-tail test p-value is 1.6303110529981722e-12\n"
     ]
    },
    {
     "data": {
      "text/plain": [
       "(-0.005126595919113727,\n",
       " -0.006549227503619814,\n",
       " -0.0037039643346076416,\n",
       " 1.6303110529981722e-12)"
      ]
     },
     "execution_count": 73,
     "metadata": {},
     "output_type": "execute_result"
    }
   ],
   "source": [
    "# Calculate AB testing results \n",
    "\n",
    "N_cont = data_LaAm_ES['test'].value_counts()[0]\n",
    "N_exp = data_LaAm_ES['test'].value_counts()[1]\n",
    "X_cont = len(data_LaAm_ES[(data_LaAm_ES['test']==0) & (data_LaAm_ES['conversion']==1)])\n",
    "X_exp = len(data_LaAm_ES[(data_LaAm_ES['test']==1) & (data_LaAm_ES['conversion']==1)])\n",
    "\n",
    "z_test(X_cont, X_exp, N_cont, N_exp, 0.05)\n"
   ]
  },
  {
   "cell_type": "markdown",
   "metadata": {},
   "source": [
    "### The difference between experiment and control does make a statistical significance at 0.05 significant level. "
   ]
  },
  {
   "cell_type": "code",
   "execution_count": 41,
   "metadata": {},
   "outputs": [
    {
     "data": {
      "text/html": [
       "<div>\n",
       "<style scoped>\n",
       "    .dataframe tbody tr th:only-of-type {\n",
       "        vertical-align: middle;\n",
       "    }\n",
       "\n",
       "    .dataframe tbody tr th {\n",
       "        vertical-align: top;\n",
       "    }\n",
       "\n",
       "    .dataframe thead th {\n",
       "        text-align: right;\n",
       "    }\n",
       "</style>\n",
       "<table border=\"1\" class=\"dataframe\">\n",
       "  <thead>\n",
       "    <tr style=\"text-align: right;\">\n",
       "      <th></th>\n",
       "      <th>user_id</th>\n",
       "      <th>date</th>\n",
       "      <th>source</th>\n",
       "      <th>device</th>\n",
       "      <th>browser_language</th>\n",
       "      <th>ads_channel</th>\n",
       "      <th>browser</th>\n",
       "      <th>conversion</th>\n",
       "      <th>test</th>\n",
       "      <th>sex</th>\n",
       "      <th>age</th>\n",
       "      <th>country</th>\n",
       "    </tr>\n",
       "  </thead>\n",
       "  <tbody>\n",
       "    <tr>\n",
       "      <th>count</th>\n",
       "      <td>334401.000000</td>\n",
       "      <td>334401</td>\n",
       "      <td>334401</td>\n",
       "      <td>334401</td>\n",
       "      <td>334401</td>\n",
       "      <td>334401</td>\n",
       "      <td>334401</td>\n",
       "      <td>334401.000000</td>\n",
       "      <td>334401.000000</td>\n",
       "      <td>334401</td>\n",
       "      <td>334401.000000</td>\n",
       "      <td>334401</td>\n",
       "    </tr>\n",
       "    <tr>\n",
       "      <th>unique</th>\n",
       "      <td>NaN</td>\n",
       "      <td>5</td>\n",
       "      <td>3</td>\n",
       "      <td>2</td>\n",
       "      <td>1</td>\n",
       "      <td>6</td>\n",
       "      <td>7</td>\n",
       "      <td>NaN</td>\n",
       "      <td>NaN</td>\n",
       "      <td>3</td>\n",
       "      <td>NaN</td>\n",
       "      <td>17</td>\n",
       "    </tr>\n",
       "    <tr>\n",
       "      <th>top</th>\n",
       "      <td>NaN</td>\n",
       "      <td>2015-12-04</td>\n",
       "      <td>Ads</td>\n",
       "      <td>Web</td>\n",
       "      <td>ES</td>\n",
       "      <td>Not_specified</td>\n",
       "      <td>Android_App</td>\n",
       "      <td>NaN</td>\n",
       "      <td>NaN</td>\n",
       "      <td>M</td>\n",
       "      <td>NaN</td>\n",
       "      <td>Mexico</td>\n",
       "    </tr>\n",
       "    <tr>\n",
       "      <th>freq</th>\n",
       "      <td>NaN</td>\n",
       "      <td>103927</td>\n",
       "      <td>134033</td>\n",
       "      <td>185566</td>\n",
       "      <td>334401</td>\n",
       "      <td>200368</td>\n",
       "      <td>114475</td>\n",
       "      <td>NaN</td>\n",
       "      <td>NaN</td>\n",
       "      <td>194806</td>\n",
       "      <td>NaN</td>\n",
       "      <td>107086</td>\n",
       "    </tr>\n",
       "    <tr>\n",
       "      <th>mean</th>\n",
       "      <td>499888.896244</td>\n",
       "      <td>NaN</td>\n",
       "      <td>NaN</td>\n",
       "      <td>NaN</td>\n",
       "      <td>NaN</td>\n",
       "      <td>NaN</td>\n",
       "      <td>NaN</td>\n",
       "      <td>0.045903</td>\n",
       "      <td>0.537600</td>\n",
       "      <td>NaN</td>\n",
       "      <td>27.124714</td>\n",
       "      <td>NaN</td>\n",
       "    </tr>\n",
       "    <tr>\n",
       "      <th>std</th>\n",
       "      <td>288747.889139</td>\n",
       "      <td>NaN</td>\n",
       "      <td>NaN</td>\n",
       "      <td>NaN</td>\n",
       "      <td>NaN</td>\n",
       "      <td>NaN</td>\n",
       "      <td>NaN</td>\n",
       "      <td>0.209275</td>\n",
       "      <td>0.498585</td>\n",
       "      <td>NaN</td>\n",
       "      <td>6.777246</td>\n",
       "      <td>NaN</td>\n",
       "    </tr>\n",
       "    <tr>\n",
       "      <th>min</th>\n",
       "      <td>2.000000</td>\n",
       "      <td>NaN</td>\n",
       "      <td>NaN</td>\n",
       "      <td>NaN</td>\n",
       "      <td>NaN</td>\n",
       "      <td>NaN</td>\n",
       "      <td>NaN</td>\n",
       "      <td>0.000000</td>\n",
       "      <td>0.000000</td>\n",
       "      <td>NaN</td>\n",
       "      <td>18.000000</td>\n",
       "      <td>NaN</td>\n",
       "    </tr>\n",
       "    <tr>\n",
       "      <th>25%</th>\n",
       "      <td>249889.000000</td>\n",
       "      <td>NaN</td>\n",
       "      <td>NaN</td>\n",
       "      <td>NaN</td>\n",
       "      <td>NaN</td>\n",
       "      <td>NaN</td>\n",
       "      <td>NaN</td>\n",
       "      <td>0.000000</td>\n",
       "      <td>0.000000</td>\n",
       "      <td>NaN</td>\n",
       "      <td>22.000000</td>\n",
       "      <td>NaN</td>\n",
       "    </tr>\n",
       "    <tr>\n",
       "      <th>50%</th>\n",
       "      <td>499765.000000</td>\n",
       "      <td>NaN</td>\n",
       "      <td>NaN</td>\n",
       "      <td>NaN</td>\n",
       "      <td>NaN</td>\n",
       "      <td>NaN</td>\n",
       "      <td>NaN</td>\n",
       "      <td>0.000000</td>\n",
       "      <td>1.000000</td>\n",
       "      <td>NaN</td>\n",
       "      <td>26.000000</td>\n",
       "      <td>NaN</td>\n",
       "    </tr>\n",
       "    <tr>\n",
       "      <th>75%</th>\n",
       "      <td>749780.000000</td>\n",
       "      <td>NaN</td>\n",
       "      <td>NaN</td>\n",
       "      <td>NaN</td>\n",
       "      <td>NaN</td>\n",
       "      <td>NaN</td>\n",
       "      <td>NaN</td>\n",
       "      <td>0.000000</td>\n",
       "      <td>1.000000</td>\n",
       "      <td>NaN</td>\n",
       "      <td>31.000000</td>\n",
       "      <td>NaN</td>\n",
       "    </tr>\n",
       "    <tr>\n",
       "      <th>max</th>\n",
       "      <td>1000000.000000</td>\n",
       "      <td>NaN</td>\n",
       "      <td>NaN</td>\n",
       "      <td>NaN</td>\n",
       "      <td>NaN</td>\n",
       "      <td>NaN</td>\n",
       "      <td>NaN</td>\n",
       "      <td>1.000000</td>\n",
       "      <td>1.000000</td>\n",
       "      <td>NaN</td>\n",
       "      <td>66.000000</td>\n",
       "      <td>NaN</td>\n",
       "    </tr>\n",
       "  </tbody>\n",
       "</table>\n",
       "</div>"
      ],
      "text/plain": [
       "               user_id        date  source  device browser_language  \\\n",
       "count    334401.000000      334401  334401  334401           334401   \n",
       "unique             NaN           5       3       2                1   \n",
       "top                NaN  2015-12-04     Ads     Web               ES   \n",
       "freq               NaN      103927  134033  185566           334401   \n",
       "mean     499888.896244         NaN     NaN     NaN              NaN   \n",
       "std      288747.889139         NaN     NaN     NaN              NaN   \n",
       "min           2.000000         NaN     NaN     NaN              NaN   \n",
       "25%      249889.000000         NaN     NaN     NaN              NaN   \n",
       "50%      499765.000000         NaN     NaN     NaN              NaN   \n",
       "75%      749780.000000         NaN     NaN     NaN              NaN   \n",
       "max     1000000.000000         NaN     NaN     NaN              NaN   \n",
       "\n",
       "          ads_channel      browser     conversion           test     sex  \\\n",
       "count          334401       334401  334401.000000  334401.000000  334401   \n",
       "unique              6            7            NaN            NaN       3   \n",
       "top     Not_specified  Android_App            NaN            NaN       M   \n",
       "freq           200368       114475            NaN            NaN  194806   \n",
       "mean              NaN          NaN       0.045903       0.537600     NaN   \n",
       "std               NaN          NaN       0.209275       0.498585     NaN   \n",
       "min               NaN          NaN       0.000000       0.000000     NaN   \n",
       "25%               NaN          NaN       0.000000       0.000000     NaN   \n",
       "50%               NaN          NaN       0.000000       1.000000     NaN   \n",
       "75%               NaN          NaN       0.000000       1.000000     NaN   \n",
       "max               NaN          NaN       1.000000       1.000000     NaN   \n",
       "\n",
       "                  age country  \n",
       "count   334401.000000  334401  \n",
       "unique            NaN      17  \n",
       "top               NaN  Mexico  \n",
       "freq              NaN  107086  \n",
       "mean        27.124714     NaN  \n",
       "std          6.777246     NaN  \n",
       "min         18.000000     NaN  \n",
       "25%         22.000000     NaN  \n",
       "50%         26.000000     NaN  \n",
       "75%         31.000000     NaN  \n",
       "max         66.000000     NaN  "
      ]
     },
     "execution_count": 41,
     "metadata": {},
     "output_type": "execute_result"
    }
   ],
   "source": [
    "data_LaAm_ES.describe(include='all')"
   ]
  },
  {
   "cell_type": "markdown",
   "metadata": {},
   "source": [
    "### For each variable, if descrete, bar plot them for test vs. control, if continuous, histogram plot. "
   ]
  },
  {
   "cell_type": "code",
   "execution_count": 59,
   "metadata": {},
   "outputs": [],
   "source": [
    "# Bar plot for discrete variable\n",
    "\n",
    "def barplot(df, var_col, tar_col, yscale='linear'):\n",
    "    fig = plt.figure(figsize=(16,8))\n",
    "    sns.countplot(x=var_col, hue=tar_col, data=df, order=df[var_col].value_counts().sort_index().index)\n",
    "    plt.yscale(yscale)\n",
    "    plt.ylabel(tar_col,  fontsize=15)\n",
    "    plt.xlabel(var_col, fontsize=15)\n",
    "    plt.legend(fontsize=15)\n",
    "    return \n",
    "\n",
    "# histogram for continuous variable\n",
    "\n",
    "def histplot(df, var_col, tar_col, binsize=20, yscale='linear'):\n",
    "    fig = plt.figure(figsize=(16,8))\n",
    "    tar_vals = df[tar_col].value_counts().index\n",
    "    for tar_val in tar_vals:\n",
    "        sns.distplot(df.loc[df[tar_col]==tar_val, var_col], bins=binsize, kde=False, norm_hist=True, label=str(tar_val))\n",
    "        plt.yscale(yscale)\n",
    "        plt.ylabel(tar_col,  fontsize=15)\n",
    "        plt.xlabel(var_col, fontsize=15)\n",
    "        plt.legend(fontsize=15)\n",
    "    return \n"
   ]
  },
  {
   "cell_type": "code",
   "execution_count": 60,
   "metadata": {},
   "outputs": [
    {
     "data": {
      "image/png": "[encoded data removed]",
      "text/plain": [
       "<Figure size 1152x576 with 1 Axes>"
      ]
     },
     "metadata": {},
     "output_type": "display_data"
    },
    {
     "data": {
      "image/png": "[encoded data removed]",
      "text/plain": [
       "<Figure size 1152x576 with 1 Axes>"
      ]
     },
     "metadata": {},
     "output_type": "display_data"
    },
    {
     "data": {
      "image/png": "[encoded data removed]",
      "text/plain": [
       "<Figure size 1152x576 with 1 Axes>"
      ]
     },
     "metadata": {},
     "output_type": "display_data"
    },
    {
     "data": {
      "image/png": "[encoded data removed]",
      "text/plain": [
       "<Figure size 1152x576 with 1 Axes>"
      ]
     },
     "metadata": {},
     "output_type": "display_data"
    },
    {
     "data": {
      "image/png": "[encoded data removed]",
      "text/plain": [
       "<Figure size 1152x576 with 1 Axes>"
      ]
     },
     "metadata": {},
     "output_type": "display_data"
    },
    {
     "data": {
      "image/png": "[encoded data removed]",
      "text/plain": [
       "<Figure size 1152x576 with 1 Axes>"
      ]
     },
     "metadata": {},
     "output_type": "display_data"
    },
    {
     "data": {
      "image/png": "[encoded data removed]",
      "text/plain": [
       "<Figure size 1152x576 with 1 Axes>"
      ]
     },
     "metadata": {},
     "output_type": "display_data"
    }
   ],
   "source": [
    "# bar plots\n",
    "list = ['date', 'source', 'device', 'ads_channel', 'browser', 'sex', 'country']\n",
    "for col in list:\n",
    "    barplot(data_LaAm, col, 'test', yscale='linear')"
   ]
  },
  {
   "cell_type": "code",
   "execution_count": 61,
   "metadata": {},
   "outputs": [
    {
     "name": "stderr",
     "output_type": "stream",
     "text": [
      "C:\\Users\\Mengfan\\Anaconda3\\lib\\site-packages\\matplotlib\\axes\\_axes.py:6462: UserWarning: The 'normed' kwarg is deprecated, and has been replaced by the 'density' kwarg.\n",
      "  warnings.warn(\"The 'normed' kwarg is deprecated, and has been \"\n",
      "C:\\Users\\Mengfan\\Anaconda3\\lib\\site-packages\\matplotlib\\axes\\_axes.py:6462: UserWarning: The 'normed' kwarg is deprecated, and has been replaced by the 'density' kwarg.\n",
      "  warnings.warn(\"The 'normed' kwarg is deprecated, and has been \"\n"
     ]
    },
    {
     "data": {
      "image/png": "[encoded data removed]",
      "text/plain": [
       "<Figure size 1152x576 with 1 Axes>"
      ]
     },
     "metadata": {},
     "output_type": "display_data"
    }
   ],
   "source": [
    "# histogram for age\n",
    "histplot(data_LaAm, 'age', 'test', binsize=50)"
   ]
  },
  {
   "cell_type": "markdown",
   "metadata": {},
   "source": [
    "### Conclusion: the control and experiment (test) groups are not randomly selected. For specific countries, e.g. Argentina and Uruguay, there are much more samples in the test group. \n",
    "\n",
    "### Hypothesis: Simpson's paradox\n",
    "\n",
    "### For each country, let's look at their test and experiment conversion rate."
   ]
  },
  {
   "cell_type": "code",
   "execution_count": 85,
   "metadata": {},
   "outputs": [
    {
     "name": "stdout",
     "output_type": "stream",
     "text": [
      "AB test results for Argentina:\n",
      "Difference between Experiment and Control is -0.001329725352639399\n",
      "95% confidence interval of difference is (-0.00427999, 0.00162054)\n",
      "2-tail test p-value is 0.3770297147981073\n",
      "\n",
      "\n",
      "AB test results for Bolivia:\n",
      "Difference between Experiment and Control is -0.00014536350217671246\n",
      "95% confidence interval of difference is (-0.00898362, 0.00869289)\n",
      "2-tail test p-value is 0.9742840997484994\n",
      "\n",
      "\n",
      "AB test results for Chile:\n",
      "Difference between Experiment and Control is 0.0013945292644950147\n",
      "95% confidence interval of difference is (-0.0052057, 0.00799476)\n",
      "2-tail test p-value is 0.6787929203134611\n",
      "\n",
      "\n",
      "AB test results for Colombia:\n",
      "Difference between Experiment and Control is -0.0018729118953322715\n",
      "95% confidence interval of difference is (-0.00598073, 0.00223491)\n",
      "2-tail test p-value is 0.3715241464015676\n",
      "\n",
      "\n",
      "AB test results for Costa Rica:\n",
      "Difference between Experiment and Control is 0.0017050415804754568\n",
      "95% confidence interval of difference is (-0.0114853, 0.01489539)\n",
      "2-tail test p-value is 0.7999950449651971\n",
      "\n",
      "\n",
      "AB test results for Ecuador:\n",
      "Difference between Experiment and Control is -0.0015972905845848748\n",
      "95% confidence interval of difference is (-0.00898989, 0.00579531)\n",
      "2-tail test p-value is 0.6719435929858548\n",
      "\n",
      "\n",
      "AB test results for El Salvador:\n",
      "Difference between Experiment and Control is -0.005796097297391514\n",
      "95% confidence interval of difference is (-0.01635188, 0.00475969)\n",
      "2-tail test p-value is 0.28183746496500917\n",
      "\n",
      "\n",
      "AB test results for Guatemala:\n",
      "Difference between Experiment and Control is 0.0014087107554339104\n",
      "95% confidence interval of difference is (-0.0062424, 0.00905982)\n",
      "2-tail test p-value is 0.7181999035468942\n",
      "\n",
      "\n",
      "AB test results for Honduras:\n",
      "Difference between Experiment and Control is -0.0016104414179735696\n",
      "95% confidence interval of difference is (-0.01168501, 0.00846412)\n",
      "2-tail test p-value is 0.7540492587544775\n",
      "\n",
      "\n",
      "AB test results for Mexico:\n",
      "Difference between Experiment and Control is 0.000965697994679042\n",
      "95% confidence interval of difference is (-0.00165623, 0.00358763)\n",
      "2-tail test p-value is 0.47036447070363485\n",
      "\n",
      "\n",
      "AB test results for Nicaragua:\n",
      "Difference between Experiment and Control is 0.0005459453855584939\n",
      "95% confidence interval of difference is (-0.01128766, 0.01237955)\n",
      "2-tail test p-value is 0.9279508624625246\n",
      "\n",
      "\n",
      "AB test results for Not_specified:\n",
      "Difference between Experiment and Control is -0.019011202068074114\n",
      "95% confidence interval of difference is (-0.06909939, 0.03107699)\n",
      "2-tail test p-value is 0.45692890393866714\n",
      "\n",
      "\n",
      "AB test results for Panama:\n",
      "Difference between Experiment and Control is 0.0038333377683558156\n",
      "95% confidence interval of difference is (-0.01104053, 0.0187072)\n",
      "2-tail test p-value is 0.6134690233739382\n",
      "\n",
      "\n",
      "AB test results for Paraguay:\n",
      "Difference between Experiment and Control is -0.0001757741562139134\n",
      "95% confidence interval of difference is (-0.01082264, 0.01047109)\n",
      "2-tail test p-value is 0.9741865822922963\n",
      "\n",
      "\n",
      "AB test results for Peru:\n",
      "Difference between Experiment and Control is 0.0010715311589444693\n",
      "95% confidence interval of difference is (-0.0040306, 0.00617367)\n",
      "2-tail test p-value is 0.680614811233652\n",
      "\n",
      "\n",
      "AB test results for Uruguay:\n",
      "Difference between Experiment and Control is 0.002547856173972334\n",
      "95% confidence interval of difference is (-0.00874346, 0.01383917)\n",
      "2-tail test p-value is 0.6583005068822816\n",
      "\n",
      "\n",
      "AB test results for Venezuela:\n",
      "Difference between Experiment and Control is -0.0008816191969305553\n",
      "95% confidence interval of difference is (-0.0061206, 0.00435736)\n",
      "2-tail test p-value is 0.7415329742908328\n",
      "\n",
      "\n"
     ]
    }
   ],
   "source": [
    "# Calculate AB testing results for each countr\n",
    "\n",
    "countries = data_LaAm['country'].value_counts().sort_index().index\n",
    "AB_test_by_country = pd.DataFrame(index=countries)\n",
    "\n",
    "for country in countries:\n",
    "    data_by_country = data_LaAm_ES[data_LaAm_ES['country']==country]\n",
    "    N_cont = data_by_country['test'].value_counts()[0]\n",
    "    N_exp = data_by_country['test'].value_counts()[1]\n",
    "    X_cont = len(data_by_country[(data_by_country['test']==0) & (data_by_country['conversion']==1)])\n",
    "    X_exp = len(data_by_country[(data_by_country['test']==1) & (data_by_country['conversion']==1)])\n",
    "    print('AB test results for {}:'.format(country))\n",
    "\n",
    "    scores = z_test(X_cont, X_exp, N_cont, N_exp, 0.05)\n",
    "    AB_test_by_country.loc[country, 'conversion_test'] = X_exp/N_exp\n",
    "    AB_test_by_country.loc[country, 'conversion_cont'] = X_cont/N_cont\n",
    "    AB_test_by_country.loc[country,'diff'] = scores[0]\n",
    "    AB_test_by_country.loc[country,'CI_lower'] = scores[1]    \n",
    "    AB_test_by_country.loc[country,'CI_upper'] = scores[2]  \n",
    "    AB_test_by_country.loc[country,'p_value'] = scores[3]      \n",
    "    print('\\n')"
   ]
  },
  {
   "cell_type": "code",
   "execution_count": 86,
   "metadata": {},
   "outputs": [
    {
     "data": {
      "text/html": [
       "<div>\n",
       "<style scoped>\n",
       "    .dataframe tbody tr th:only-of-type {\n",
       "        vertical-align: middle;\n",
       "    }\n",
       "\n",
       "    .dataframe tbody tr th {\n",
       "        vertical-align: top;\n",
       "    }\n",
       "\n",
       "    .dataframe thead th {\n",
       "        text-align: right;\n",
       "    }\n",
       "</style>\n",
       "<table border=\"1\" class=\"dataframe\">\n",
       "  <thead>\n",
       "    <tr style=\"text-align: right;\">\n",
       "      <th></th>\n",
       "      <th>conversion_test</th>\n",
       "      <th>conversion_cont</th>\n",
       "      <th>diff</th>\n",
       "      <th>CI_lower</th>\n",
       "      <th>CI_upper</th>\n",
       "      <th>p_value</th>\n",
       "    </tr>\n",
       "  </thead>\n",
       "  <tbody>\n",
       "    <tr>\n",
       "      <th>Argentina</th>\n",
       "      <td>0.014069</td>\n",
       "      <td>0.015398</td>\n",
       "      <td>-0.001330</td>\n",
       "      <td>-0.004280</td>\n",
       "      <td>0.001621</td>\n",
       "      <td>0.377030</td>\n",
       "    </tr>\n",
       "    <tr>\n",
       "      <th>Bolivia</th>\n",
       "      <td>0.049420</td>\n",
       "      <td>0.049565</td>\n",
       "      <td>-0.000145</td>\n",
       "      <td>-0.008984</td>\n",
       "      <td>0.008693</td>\n",
       "      <td>0.974284</td>\n",
       "    </tr>\n",
       "    <tr>\n",
       "      <th>Chile</th>\n",
       "      <td>0.049688</td>\n",
       "      <td>0.048293</td>\n",
       "      <td>0.001395</td>\n",
       "      <td>-0.005206</td>\n",
       "      <td>0.007995</td>\n",
       "      <td>0.678793</td>\n",
       "    </tr>\n",
       "    <tr>\n",
       "      <th>Colombia</th>\n",
       "      <td>0.051011</td>\n",
       "      <td>0.052884</td>\n",
       "      <td>-0.001873</td>\n",
       "      <td>-0.005981</td>\n",
       "      <td>0.002235</td>\n",
       "      <td>0.371524</td>\n",
       "    </tr>\n",
       "    <tr>\n",
       "      <th>Costa Rica</th>\n",
       "      <td>0.053162</td>\n",
       "      <td>0.051457</td>\n",
       "      <td>0.001705</td>\n",
       "      <td>-0.011485</td>\n",
       "      <td>0.014895</td>\n",
       "      <td>0.799995</td>\n",
       "    </tr>\n",
       "    <tr>\n",
       "      <th>Ecuador</th>\n",
       "      <td>0.048803</td>\n",
       "      <td>0.050400</td>\n",
       "      <td>-0.001597</td>\n",
       "      <td>-0.008990</td>\n",
       "      <td>0.005795</td>\n",
       "      <td>0.671944</td>\n",
       "    </tr>\n",
       "    <tr>\n",
       "      <th>El Salvador</th>\n",
       "      <td>0.048882</td>\n",
       "      <td>0.054678</td>\n",
       "      <td>-0.005796</td>\n",
       "      <td>-0.016352</td>\n",
       "      <td>0.004760</td>\n",
       "      <td>0.281837</td>\n",
       "    </tr>\n",
       "    <tr>\n",
       "      <th>Guatemala</th>\n",
       "      <td>0.051307</td>\n",
       "      <td>0.049898</td>\n",
       "      <td>0.001409</td>\n",
       "      <td>-0.006242</td>\n",
       "      <td>0.009060</td>\n",
       "      <td>0.718200</td>\n",
       "    </tr>\n",
       "    <tr>\n",
       "      <th>Honduras</th>\n",
       "      <td>0.048995</td>\n",
       "      <td>0.050605</td>\n",
       "      <td>-0.001610</td>\n",
       "      <td>-0.011685</td>\n",
       "      <td>0.008464</td>\n",
       "      <td>0.754049</td>\n",
       "    </tr>\n",
       "    <tr>\n",
       "      <th>Mexico</th>\n",
       "      <td>0.050938</td>\n",
       "      <td>0.049972</td>\n",
       "      <td>0.000966</td>\n",
       "      <td>-0.001656</td>\n",
       "      <td>0.003588</td>\n",
       "      <td>0.470364</td>\n",
       "    </tr>\n",
       "    <tr>\n",
       "      <th>Nicaragua</th>\n",
       "      <td>0.054572</td>\n",
       "      <td>0.054026</td>\n",
       "      <td>0.000546</td>\n",
       "      <td>-0.011288</td>\n",
       "      <td>0.012380</td>\n",
       "      <td>0.927951</td>\n",
       "    </tr>\n",
       "    <tr>\n",
       "      <th>Not_specified</th>\n",
       "      <td>0.056818</td>\n",
       "      <td>0.075829</td>\n",
       "      <td>-0.019011</td>\n",
       "      <td>-0.069099</td>\n",
       "      <td>0.031077</td>\n",
       "      <td>0.456929</td>\n",
       "    </tr>\n",
       "    <tr>\n",
       "      <th>Panama</th>\n",
       "      <td>0.051745</td>\n",
       "      <td>0.047912</td>\n",
       "      <td>0.003833</td>\n",
       "      <td>-0.011041</td>\n",
       "      <td>0.018707</td>\n",
       "      <td>0.613469</td>\n",
       "    </tr>\n",
       "    <tr>\n",
       "      <th>Paraguay</th>\n",
       "      <td>0.047047</td>\n",
       "      <td>0.047223</td>\n",
       "      <td>-0.000176</td>\n",
       "      <td>-0.010823</td>\n",
       "      <td>0.010471</td>\n",
       "      <td>0.974187</td>\n",
       "    </tr>\n",
       "    <tr>\n",
       "      <th>Peru</th>\n",
       "      <td>0.050464</td>\n",
       "      <td>0.049392</td>\n",
       "      <td>0.001072</td>\n",
       "      <td>-0.004031</td>\n",
       "      <td>0.006174</td>\n",
       "      <td>0.680615</td>\n",
       "    </tr>\n",
       "    <tr>\n",
       "      <th>Uruguay</th>\n",
       "      <td>0.010975</td>\n",
       "      <td>0.008427</td>\n",
       "      <td>0.002548</td>\n",
       "      <td>-0.008743</td>\n",
       "      <td>0.013839</td>\n",
       "      <td>0.658301</td>\n",
       "    </tr>\n",
       "    <tr>\n",
       "      <th>Venezuela</th>\n",
       "      <td>0.049830</td>\n",
       "      <td>0.050712</td>\n",
       "      <td>-0.000882</td>\n",
       "      <td>-0.006121</td>\n",
       "      <td>0.004357</td>\n",
       "      <td>0.741533</td>\n",
       "    </tr>\n",
       "  </tbody>\n",
       "</table>\n",
       "</div>"
      ],
      "text/plain": [
       "               conversion_test  conversion_cont      diff  CI_lower  CI_upper  \\\n",
       "Argentina             0.014069         0.015398 -0.001330 -0.004280  0.001621   \n",
       "Bolivia               0.049420         0.049565 -0.000145 -0.008984  0.008693   \n",
       "Chile                 0.049688         0.048293  0.001395 -0.005206  0.007995   \n",
       "Colombia              0.051011         0.052884 -0.001873 -0.005981  0.002235   \n",
       "Costa Rica            0.053162         0.051457  0.001705 -0.011485  0.014895   \n",
       "Ecuador               0.048803         0.050400 -0.001597 -0.008990  0.005795   \n",
       "El Salvador           0.048882         0.054678 -0.005796 -0.016352  0.004760   \n",
       "Guatemala             0.051307         0.049898  0.001409 -0.006242  0.009060   \n",
       "Honduras              0.048995         0.050605 -0.001610 -0.011685  0.008464   \n",
       "Mexico                0.050938         0.049972  0.000966 -0.001656  0.003588   \n",
       "Nicaragua             0.054572         0.054026  0.000546 -0.011288  0.012380   \n",
       "Not_specified         0.056818         0.075829 -0.019011 -0.069099  0.031077   \n",
       "Panama                0.051745         0.047912  0.003833 -0.011041  0.018707   \n",
       "Paraguay              0.047047         0.047223 -0.000176 -0.010823  0.010471   \n",
       "Peru                  0.050464         0.049392  0.001072 -0.004031  0.006174   \n",
       "Uruguay               0.010975         0.008427  0.002548 -0.008743  0.013839   \n",
       "Venezuela             0.049830         0.050712 -0.000882 -0.006121  0.004357   \n",
       "\n",
       "                p_value  \n",
       "Argentina      0.377030  \n",
       "Bolivia        0.974284  \n",
       "Chile          0.678793  \n",
       "Colombia       0.371524  \n",
       "Costa Rica     0.799995  \n",
       "Ecuador        0.671944  \n",
       "El Salvador    0.281837  \n",
       "Guatemala      0.718200  \n",
       "Honduras       0.754049  \n",
       "Mexico         0.470364  \n",
       "Nicaragua      0.927951  \n",
       "Not_specified  0.456929  \n",
       "Panama         0.613469  \n",
       "Paraguay       0.974187  \n",
       "Peru           0.680615  \n",
       "Uruguay        0.658301  \n",
       "Venezuela      0.741533  "
      ]
     },
     "execution_count": 86,
     "metadata": {},
     "output_type": "execute_result"
    }
   ],
   "source": [
    "AB_test_by_country"
   ]
  },
  {
   "cell_type": "markdown",
   "metadata": {},
   "source": [
    "### Conclusion: there's no significant difference between control and experiment groups for each country separately. \n",
    "\n",
    "### Argentina and Uruguar have overal lower conversion rate than other countries. They have more people in the test group, which leads to lower conversion rate for all Latin Amerian countries in the test group. "
   ]
  },
  {
   "cell_type": "code",
   "execution_count": 90,
   "metadata": {},
   "outputs": [
    {
     "data": {
      "text/plain": [
       "Text(0,0.5,'Conversion Rate')"
      ]
     },
     "execution_count": 90,
     "metadata": {},
     "output_type": "execute_result"
    },
    {
     "data": {
      "text/plain": [
       "<Figure size 432x288 with 0 Axes>"
      ]
     },
     "metadata": {},
     "output_type": "display_data"
    },
    {
     "data": {
      "image/png": "[encoded data removed]",
      "text/plain": [
       "<Figure size 1152x576 with 1 Axes>"
      ]
     },
     "metadata": {},
     "output_type": "display_data"
    }
   ],
   "source": [
    "fig = plt.figure()\n",
    "AB_test_by_country[['conversion_test', 'conversion_cont']].plot.bar(fontsize=15, rot=45, figsize=(16,8))\n",
    "plt.legend(fontsize=15)\n",
    "plt.xlabel('Countries', fontsize=15)\n",
    "plt.ylabel('Conversion Rate', fontsize=15)"
   ]
  },
  {
   "cell_type": "code",
   "execution_count": null,
   "metadata": {},
   "outputs": [],
   "source": []
  },
  {
   "cell_type": "code",
   "execution_count": null,
   "metadata": {},
   "outputs": [],
   "source": []
  }
 ],
 "metadata": {
  "kernelspec": {
   "display_name": "Python 3",
   "language": "python",
   "name": "python3"
  },
  "language_info": {
   "codemirror_mode": {
    "name": "ipython",
    "version": 3
   },
   "file_extension": ".py",
   "mimetype": "text/x-python",
   "name": "python",
   "nbconvert_exporter": "python",
   "pygments_lexer": "ipython3",
   "version": "3.6.5"
  }
 },
 "nbformat": 4,
 "nbformat_minor": 2
}
